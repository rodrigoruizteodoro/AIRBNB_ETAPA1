{
 "cells": [
  {
   "cell_type": "code",
   "execution_count": null,
   "metadata": {},
   "outputs": [],
   "source": [
    "import pandas as pd\n",
    "import numpy as np\n",
    "import matplotlib.pyplot as plt\n",
    "from statistics import mode"
   ]
  },
  {
   "cell_type": "code",
   "execution_count": null,
   "metadata": {},
   "outputs": [],
   "source": [
    "#Cargamos el archivo airbnb.csv\n",
    "data= pd.read_csv('airbnb.csv', encoding='ISO-8859-1')\n",
    "data"
   ]
  },
  {
   "cell_type": "markdown",
   "metadata": {},
   "source": [
    "*****3. Aplicar los siguientes métodos para reemplazar valores nulos en cada columna:*****"
   ]
  },
  {
   "cell_type": "code",
   "execution_count": null,
   "metadata": {},
   "outputs": [],
   "source": [
    "#Identificamos valores nulos\n",
    "valores_nulos=data.isnull().sum()\n",
    "valores_nulos"
   ]
  },
  {
   "cell_type": "code",
   "execution_count": null,
   "metadata": {},
   "outputs": [],
   "source": [
    "#“host_name”: Rellenar con el objeto \"anterior\" de la columna\n",
    "data[\"host_name\"] =data[\"host_name\"].fillna(method=\"bfill\") \n",
    "data\n",
    "\n",
    "#“neighbourhood”: Rellenar con el objeto \"posterior\" de la columna\n",
    "data[\"neighbourhood\"] =data[\"neighbourhood\"].fillna(method=\"ffill\") \n",
    "data\n",
    "\n",
    "#“latitude ”: Rellenar con el valor de “Media” de la columna\n",
    "mean_latitude=data['latitude'].mean() \n",
    "data['latitude'].fillna(value=mean_latitude, inplace=True) \n",
    "\n",
    "#“longitude”: Rellenar con el valor de “Mediana” de la columna\n",
    "mean_longitude=data['longitude'].median() \n",
    "data['longitude'].fillna(value=mean_longitude, inplace=True) \n",
    "\n",
    "#“room_type”: Rellenar con el string “Private room”\n",
    "data[\"room_type\"] =data[\"room_type\"].fillna(\"Private_room\") \n",
    "data\n",
    "\n",
    "#“price”: Rellenar con el valor de “Media” de la columna\n",
    "mean_price=data['price'].mean() \n",
    "data['price'].fillna(value=mean_price, inplace=True) \n",
    "\n",
    "#“minimum_nights”: Rellenar con el valor de “1”\n",
    "data[\"minimum_nights\"] =data[\"minimum_nights\"].fillna(1) \n",
    "data\n",
    "\n",
    "#\"number_of_reviews\": Rellenar con el valor de “0”\n",
    "data[\"number_of_reviews\"] =data[\"number_of_reviews\"].fillna(0) \n",
    "data\n",
    "\n",
    "#\"last_review\":Rellenar con el objeto \"31/12/2022\" de la columna\n",
    "data[\"last_review\"] =data[\"last_review\"].fillna(\"31/12/2022\") \n",
    "data\n",
    "\n",
    "#\"reviews_per_month\": Rellenar con el valor de “Media” de la columna\n",
    "mean_reviews_per_month=data['reviews_per_month'].mean() \n",
    "data['reviews_per_month'].fillna(value=mean_reviews_per_month, inplace=True) \n",
    "\n",
    "#\"calculated_host_listings_count\": Rellenar con el valor de “1”\n",
    "data[\"calculated_host_listings_count\"] =data[\"calculated_host_listings_count\"].fillna(1) \n",
    "data\n",
    "\n",
    "#\"availability_365\" y \"number of reviews ltm\": Rellenar con el objeto \"anterior\" de cada columna respectivamente.\n",
    "data[\"availability_365\"] =data[\"availability_365\"].fillna(method=\"bfill\") \n",
    "data\n",
    "\n",
    "data[\"number_of_reviews_ltm\"] =data[\"number_of_reviews_ltm\"].fillna(method=\"bfill\") \n",
    "data\n",
    "\n",
    "#Se elimina la columna \"neighbourhood_group \" ya que no existe ningún valor para los 21669 datos\n",
    "data=data.drop(['neighbourhood_group'],axis=1)\n",
    "\n",
    "#Se rellena la comuna \"name\" con el texto \"Hermoso depa en Cancún\"\n",
    "data[\"name\"] =data[\"name\"].fillna(\"Hermoso depa en Cancún\") \n",
    "data\n"
   ]
  },
  {
   "cell_type": "code",
   "execution_count": null,
   "metadata": {},
   "outputs": [],
   "source": [
    "#Vemos que ya no tenemps valores nulos en nuestro dataframe\n",
    "valores_nulos=data.isnull().sum().sum()\n",
    "valores_nulos"
   ]
  },
  {
   "cell_type": "markdown",
   "metadata": {},
   "source": [
    "*****4 y 5.-Aplicar método de distribución normal y desviación Estandar*****"
   ]
  },
  {
   "cell_type": "markdown",
   "metadata": {},
   "source": [
    "*****Desviación Estandar*****"
   ]
  },
  {
   "cell_type": "code",
   "execution_count": null,
   "metadata": {},
   "outputs": [],
   "source": [
    "#Variable latitude\n",
    "\n",
    "y=data[\"latitude\"]\n",
    "Limite_Superior= y.mean() + 3*y.std()\n",
    "Limite_Inferior= y.mean() - 3*y.std()\n",
    "print(\"Limite superior permitido\", Limite_Superior)\n",
    "print(\"Limite inferior permitido\", Limite_Inferior)\n",
    "\n",
    "#Encontramos Ouliers\n",
    "outliers_latitude= data[(y>Limite_Superior)|(y<Limite_Inferior)]\n",
    "outliers_latitude"
   ]
  },
  {
   "cell_type": "code",
   "execution_count": null,
   "metadata": {},
   "outputs": [],
   "source": [
    "fig = plt.figure(figsize =(5, 3))\n",
    "plt.boxplot(data[\"latitude\"]) \n",
    "plt.title(\"Outliers de latitude\")\n",
    "plt.show() #dibujamos el diagrama"
   ]
  },
  {
   "cell_type": "code",
   "execution_count": null,
   "metadata": {},
   "outputs": [],
   "source": [
    "#Variable longitude\n",
    "\n",
    "y2=data[\"longitude\"]\n",
    "Limite_Superior2= y2.mean() + 3*y2.std()\n",
    "Limite_Inferior2= y2.mean() - 3*y2.std()\n",
    "print(\"Limite superior permitido\", Limite_Superior2)\n",
    "print(\"Limite inferior permitido\", Limite_Inferior2)\n",
    "\n",
    "#Encontramos Ouliers\n",
    "outliers_longitude= data[(y2>Limite_Superior2)|(y2<Limite_Inferior2)]\n",
    "outliers_longitude"
   ]
  },
  {
   "cell_type": "code",
   "execution_count": null,
   "metadata": {},
   "outputs": [],
   "source": [
    "fig = plt.figure(figsize =(5, 3))\n",
    "plt.boxplot(data[\"longitude\"]) \n",
    "plt.title(\"Outliers de longitude\")\n",
    "plt.show() #dibujamos el diagrama"
   ]
  },
  {
   "cell_type": "code",
   "execution_count": null,
   "metadata": {},
   "outputs": [],
   "source": [
    "#Variable minimum_nights\n",
    "\n",
    "y3=data[\"minimum_nights\"]\n",
    "Limite_Superior3= y3.mean() + 3*y3.std()\n",
    "Limite_Inferior3= y3.mean() - 3*y3.std()\n",
    "print(\"Limite superior permitido\", Limite_Superior3)\n",
    "print(\"Limite inferior permitido\", Limite_Inferior3)\n",
    "\n",
    "#Encontramos Ouliers\n",
    "outliers_minimum_nights= data[(y3>Limite_Superior3)|(y3<Limite_Inferior3)]\n",
    "outliers_minimum_nights"
   ]
  },
  {
   "cell_type": "code",
   "execution_count": null,
   "metadata": {},
   "outputs": [],
   "source": [
    "fig = plt.figure(figsize =(5, 3))\n",
    "plt.boxplot(data[\"minimum_nights\"]) \n",
    "plt.title(\"Outliers de minimum_nights\")\n",
    "plt.show() #dibujamos el diagrama"
   ]
  },
  {
   "cell_type": "code",
   "execution_count": null,
   "metadata": {},
   "outputs": [],
   "source": [
    "#Variable price\n",
    "\n",
    "y4=data[\"price\"]\n",
    "Limite_Superior4= y4.mean() + 3*y4.std()\n",
    "Limite_Inferior4= y4.mean() - 3*y4.std()\n",
    "print(\"Limite superior permitido\", Limite_Superior4)\n",
    "print(\"Limite inferior permitido\", Limite_Inferior4)\n",
    "\n",
    "#Encontramos Ouliers\n",
    "outliers_price= data[(y4>Limite_Superior4)|(y4<Limite_Inferior4)]\n",
    "outliers_price"
   ]
  },
  {
   "cell_type": "code",
   "execution_count": null,
   "metadata": {},
   "outputs": [],
   "source": [
    "fig = plt.figure(figsize =(5, 3))\n",
    "plt.boxplot(data[\"price\"]) \n",
    "plt.title(\"Outliers de price\")\n",
    "plt.show() #dibujamos el diagrama"
   ]
  },
  {
   "cell_type": "code",
   "execution_count": null,
   "metadata": {},
   "outputs": [],
   "source": [
    "# Variable number_of_reviews\n",
    "\n",
    "y5=data[\"number_of_reviews\"]\n",
    "Limite_Superior5= y5.mean() + 3*y5.std()\n",
    "Limite_Inferior5= y5.mean() - 3*y5.std()\n",
    "print(\"Limite superior permitido\", Limite_Superior5)\n",
    "print(\"Limite inferior permitido\", Limite_Inferior5)\n",
    "\n",
    "#Encontramos Ouliers\n",
    "outliers_number_of_reviews= data[(y5>Limite_Superior5)|(y5<Limite_Inferior5)]\n",
    "outliers_number_of_reviews"
   ]
  },
  {
   "cell_type": "code",
   "execution_count": null,
   "metadata": {},
   "outputs": [],
   "source": [
    "fig = plt.figure(figsize =(5, 3))\n",
    "plt.boxplot(data[\"number_of_reviews\"]) \n",
    "plt.title(\"Outliers de number_of_reviews\")\n",
    "plt.show() #dibujamos el diagrama"
   ]
  },
  {
   "cell_type": "code",
   "execution_count": null,
   "metadata": {},
   "outputs": [],
   "source": [
    "# variable reviews_per_month\n",
    "\n",
    "y6=data[\"reviews_per_month\"]\n",
    "Limite_Superior6= y6.mean() + 3*y6.std()\n",
    "Limite_Inferior6= y6.mean() - 3*y6.std()\n",
    "print(\"Limite superior permitido\", Limite_Superior6)\n",
    "print(\"Limite inferior permitido\", Limite_Inferior6)\n",
    "\n",
    "#Encontramos Ouliers\n",
    "outliers_reviews_per_month= data[(y6>Limite_Superior6)|(y6<Limite_Inferior6)]\n",
    "outliers_reviews_per_month"
   ]
  },
  {
   "cell_type": "code",
   "execution_count": 41,
   "metadata": {},
   "outputs": [
    {
     "data": {
      "image/png": "[encoded data removed]",
      "text/plain": [
       "<Figure size 360x216 with 1 Axes>"
      ]
     },
     "metadata": {
      "needs_background": "light"
     },
     "output_type": "display_data"
    }
   ],
   "source": [
    "fig = plt.figure(figsize =(5, 3))\n",
    "plt.boxplot(data[\"reviews_per_month\"]) \n",
    "plt.title(\"Outliers de reviews_per_month\")\n",
    "plt.show() #dibujamos el diagrama"
   ]
  },
  {
   "cell_type": "code",
   "execution_count": null,
   "metadata": {},
   "outputs": [],
   "source": [
    "#Variable availability_365\n",
    "\n",
    "y7=data[\"availability_365\"]\n",
    "Limite_Superior7= y7.mean() + 3*y7.std()\n",
    "Limite_Inferior7= y7.mean() - 3*y7.std()\n",
    "print(\"Limite superior permitido\", Limite_Superior7)\n",
    "print(\"Limite inferior permitido\", Limite_Inferior7)\n",
    "\n",
    "#Encontramos Ouliers\n",
    "outliers_availability_365= data[(y7>Limite_Superior7)|(y7<Limite_Inferior7)]\n",
    "outliers_availability_365\n"
   ]
  },
  {
   "cell_type": "code",
   "execution_count": null,
   "metadata": {},
   "outputs": [],
   "source": [
    "fig = plt.figure(figsize =(5, 3))\n",
    "plt.boxplot(data[\"availability_365\"]) \n",
    "plt.title(\"Outliers de availability_365\")\n",
    "plt.show() #dibujamos el diagrama"
   ]
  },
  {
   "cell_type": "markdown",
   "metadata": {},
   "source": [
    "*****rango intercuartílico*****"
   ]
  },
  {
   "cell_type": "code",
   "execution_count": null,
   "metadata": {},
   "outputs": [],
   "source": [
    "#latitude\n",
    "\n",
    "y8=data[\"latitude\"]\n",
    "\n",
    "percentile258=y8.quantile(0.25) #Q1\n",
    "percentile758=y8.quantile(0.75) #Q3\n",
    "iqr8= percentile758 - percentile258\n",
    "\n",
    "Limite_Superior_iqr8= percentile758 + 1.5*iqr8\n",
    "Limite_Inferior_iqr8= percentile258 - 1.5*iqr8\n",
    "print(\"Limite superior permitido\", Limite_Superior_iqr8)\n",
    "print(\"Limite inferior permitido\", Limite_Inferior_iqr8)\n",
    "\n",
    "outliers_iqrlatitude= data[(y8>Limite_Superior_iqr8)|(y8<Limite_Inferior_iqr8)]\n",
    "outliers_iqrlatitude"
   ]
  },
  {
   "cell_type": "code",
   "execution_count": null,
   "metadata": {},
   "outputs": [],
   "source": [
    "fig = plt.figure(figsize =(5, 3))\n",
    "plt.boxplot(data[\"latitude\"]) \n",
    "plt.title(\"Outliers de latitude\")\n",
    "plt.show() #dibujamos el diagrama"
   ]
  },
  {
   "cell_type": "code",
   "execution_count": null,
   "metadata": {},
   "outputs": [],
   "source": [
    "#longitude\n",
    "\n",
    "y9=data[\"longitude\"]\n",
    "\n",
    "percentile259=y9.quantile(0.25) #Q1\n",
    "percentile759=y9.quantile(0.75) #Q3\n",
    "iqr9= percentile759 - percentile259\n",
    "\n",
    "Limite_Superior_iqr9= percentile759 + 1.5*iqr9\n",
    "Limite_Inferior_iqr9= percentile259 - 1.5*iqr9\n",
    "print(\"Limite superior permitido\", Limite_Superior_iqr9)\n",
    "print(\"Limite inferior permitido\", Limite_Inferior_iqr9)\n",
    "\n",
    "outliers_iqr9= data[(y9>Limite_Superior_iqr9)|(y9<Limite_Inferior_iqr9)]\n",
    "outliers_iqr9"
   ]
  },
  {
   "cell_type": "code",
   "execution_count": null,
   "metadata": {},
   "outputs": [],
   "source": [
    "fig = plt.figure(figsize =(5, 3))\n",
    "plt.boxplot(data[\"longitude\"]) \n",
    "plt.title(\"Outliers de longitude\")\n",
    "plt.show() #dibujamos el diagrama"
   ]
  },
  {
   "cell_type": "code",
   "execution_count": null,
   "metadata": {},
   "outputs": [],
   "source": [
    "#price\n",
    "\n",
    "y10=data[\"price\"]\n",
    "\n",
    "percentile2510=y10.quantile(0.25) #Q1\n",
    "percentile7510=y10.quantile(0.75) #Q3\n",
    "iqr10= percentile7510 - percentile2510\n",
    "\n",
    "Limite_Superior_iqr10= percentile7510 + 1.5*iqr10\n",
    "Limite_Inferior_iqr10= percentile2510 - 1.5*iqr10\n",
    "print(\"Limite superior permitido\", Limite_Superior_iqr10)\n",
    "print(\"Limite inferior permitido\", Limite_Inferior_iqr10)\n",
    "\n",
    "outliers_iqr10= data[(y10>Limite_Superior_iqr10)|(y10<Limite_Inferior_iqr10)]\n",
    "outliers_iqr10"
   ]
  },
  {
   "cell_type": "code",
   "execution_count": null,
   "metadata": {},
   "outputs": [],
   "source": [
    "fig = plt.figure(figsize =(5, 3))\n",
    "plt.boxplot(data[\"price\"]) \n",
    "plt.title(\"Outliers de price\")\n",
    "plt.show() #dibujamos el diagrama"
   ]
  },
  {
   "cell_type": "code",
   "execution_count": null,
   "metadata": {},
   "outputs": [],
   "source": [
    "#minimum_nights\n",
    "\n",
    "y11=data[\"minimum_nights\"]\n",
    "\n",
    "percentile2511=y11.quantile(0.25) #Q1\n",
    "percentile7511=y11.quantile(0.75) #Q3\n",
    "iqr11= percentile7511 - percentile2511\n",
    "\n",
    "Limite_Superior_iqr11= percentile7511 + 1.5*iqr11\n",
    "Limite_Inferior_iqr11= percentile2511 - 1.5*iqr11\n",
    "print(\"Limite superior permitido\", Limite_Superior_iqr11)\n",
    "print(\"Limite inferior permitido\", Limite_Inferior_iqr11)\n",
    "\n",
    "outliers_iqr11= data[(y11>Limite_Superior_iqr11)|(y11<Limite_Inferior_iqr11)]\n",
    "outliers_iqr11"
   ]
  },
  {
   "cell_type": "code",
   "execution_count": null,
   "metadata": {},
   "outputs": [],
   "source": [
    "fig = plt.figure(figsize =(5, 3))\n",
    "plt.boxplot(data[\"minimum_nights\"]) \n",
    "plt.title(\"Outliers de minimum_nights\")\n",
    "plt.show() #dibujamos el diagrama"
   ]
  },
  {
   "cell_type": "code",
   "execution_count": null,
   "metadata": {},
   "outputs": [],
   "source": [
    "#number_of_reviews\n",
    "\n",
    "y12=data[\"number_of_reviews\"]\n",
    "\n",
    "percentile2512=y12.quantile(0.25) #Q1\n",
    "percentile7512=y12.quantile(0.75) #Q3\n",
    "iqr12= percentile7512 - percentile2512\n",
    "\n",
    "Limite_Superior_iqr12= percentile7512 + 1.5*iqr12\n",
    "Limite_Inferior_iqr12= percentile2512 - 1.5*iqr12\n",
    "print(\"Limite superior permitido\", Limite_Superior_iqr12)\n",
    "print(\"Limite inferior permitido\", Limite_Inferior_iqr12)\n",
    "\n",
    "outliers_iqr12= data[(y12>Limite_Superior_iqr12)|(y12<Limite_Inferior_iqr12)]\n",
    "outliers_iqr12"
   ]
  },
  {
   "cell_type": "code",
   "execution_count": null,
   "metadata": {},
   "outputs": [],
   "source": [
    "fig = plt.figure(figsize =(5, 3))\n",
    "plt.boxplot(data[\"number_of_reviews\"]) \n",
    "plt.title(\"Outliers de number_of_reviews\")\n",
    "plt.show() #dibujamos el diagrama"
   ]
  },
  {
   "cell_type": "code",
   "execution_count": null,
   "metadata": {},
   "outputs": [],
   "source": [
    "#reviews_per_month\n",
    "\n",
    "y13=data[\"reviews_per_month\"]\n",
    "\n",
    "percentile2513=y13.quantile(0.25) #Q1\n",
    "percentile7513=y13.quantile(0.75) #Q3\n",
    "iqr13= percentile7513 - percentile2513\n",
    "\n",
    "Limite_Superior_iqr13= percentile7513 + 1.5*iqr13\n",
    "Limite_Inferior_iqr13= percentile2513 - 1.5*iqr13\n",
    "print(\"Limite superior permitido\", Limite_Superior_iqr13)\n",
    "print(\"Limite inferior permitido\", Limite_Inferior_iqr13)\n",
    "\n",
    "outliers_iqr13= data[(y13>Limite_Superior_iqr13)|(y13<Limite_Inferior_iqr13)]\n",
    "outliers_iqr13"
   ]
  },
  {
   "cell_type": "code",
   "execution_count": null,
   "metadata": {},
   "outputs": [],
   "source": [
    "fig = plt.figure(figsize =(5, 3))\n",
    "plt.boxplot(data[\"reviews_per_month\"]) \n",
    "plt.title(\"Outliers de reviews_per_month\")\n",
    "plt.show() #dibujamos el diagrama"
   ]
  },
  {
   "cell_type": "code",
   "execution_count": null,
   "metadata": {},
   "outputs": [],
   "source": [
    "#availability_365\n",
    "\n",
    "y14=data[\"availability_365\"]\n",
    "\n",
    "percentile2514=y14.quantile(0.25) #Q1\n",
    "percentile7514=y14.quantile(0.75) #Q3\n",
    "iqr14= percentile7513 - percentile2513\n",
    "\n",
    "Limite_Superior_iqr14= percentile7514 + 1.5*iqr14\n",
    "Limite_Inferior_iqr14= percentile2514 - 1.5*iqr14\n",
    "print(\"Limite superior permitido\", Limite_Superior_iqr14)\n",
    "print(\"Limite inferior permitido\", Limite_Inferior_iqr14)\n",
    "\n",
    "outliers_iqr14= data[(y14>Limite_Superior_iqr14)|(y14<Limite_Inferior_iqr14)]\n",
    "outliers_iqr14"
   ]
  },
  {
   "cell_type": "code",
   "execution_count": null,
   "metadata": {},
   "outputs": [],
   "source": [
    "fig = plt.figure(figsize =(5, 3))\n",
    "plt.boxplot(data[\"availability_365\"]) \n",
    "plt.title(\"Outliers de availability_365\")\n",
    "plt.show() #dibujamos el diagrama"
   ]
  },
  {
   "cell_type": "markdown",
   "metadata": {},
   "source": [
    "*****Elección de metodo de sustitución de outliers*****"
   ]
  },
  {
   "cell_type": "code",
   "execution_count": null,
   "metadata": {},
   "outputs": [],
   "source": [
    "#Realizamos una copia del dataframe\n",
    "data2=data.copy()"
   ]
  },
  {
   "cell_type": "code",
   "execution_count": null,
   "metadata": {},
   "outputs": [],
   "source": [
    "#Primera sustitución: latitude\n",
    "#Desviación estándar\n",
    "#data3=data2[(y<=Limite_Superior)&(y>=Limite_Inferior)] \n",
    "#data3[\"latitude\"]=data3[\"latitude\"].fillna(round(data2[\"latitude\"].mean(),2))\n",
    "\n",
    "#No se ve influenciada por valores extremos, ya que solo influyen los valores centrales."
   ]
  },
  {
   "cell_type": "code",
   "execution_count": null,
   "metadata": {},
   "outputs": [],
   "source": [
    "#Segunda sustitución: longitude\n",
    "#Desviación estándar\n",
    "#data3=data2[(y2<=Limite_Superior2)&(y2>=Limite_Inferior2)] \n",
    "#data3[\"longitude\"]=data3[\"longitude\"].fillna(round(data2[\"longitude\"].mean(),0))\n",
    "\n",
    "#No se ve influenciada por valores extremos, ya que solo influyen los valores centrales."
   ]
  },
  {
   "cell_type": "code",
   "execution_count": 37,
   "metadata": {},
   "outputs": [
    {
     "name": "stderr",
     "output_type": "stream",
     "text": [
      "/var/folders/s5/9tn200911wjfzyc3b8q58s900000gn/T/ipykernel_6067/2155290536.py:4: SettingWithCopyWarning: \n",
      "A value is trying to be set on a copy of a slice from a DataFrame.\n",
      "Try using .loc[row_indexer,col_indexer] = value instead\n",
      "\n",
      "See the caveats in the documentation: https://pandas.pydata.org/pandas-docs/stable/user_guide/indexing.html#returning-a-view-versus-a-copy\n",
      "  data3[\"price\"]=data3[\"price\"].fillna(round(data2[\"price\"].mean(),2))\n"
     ]
    }
   ],
   "source": [
    "#Tercera sustitución: price\n",
    "#Desviación estándar\n",
    "data3=data2[(y4<=Limite_Superior4)&(y4>=Limite_Inferior4)] \n",
    "data3[\"price\"]=data3[\"price\"].fillna(round(data2[\"price\"].mean(),2))"
   ]
  },
  {
   "cell_type": "code",
   "execution_count": 38,
   "metadata": {},
   "outputs": [
    {
     "name": "stderr",
     "output_type": "stream",
     "text": [
      "/var/folders/s5/9tn200911wjfzyc3b8q58s900000gn/T/ipykernel_6067/1323204753.py:4: SettingWithCopyWarning: \n",
      "A value is trying to be set on a copy of a slice from a DataFrame.\n",
      "Try using .loc[row_indexer,col_indexer] = value instead\n",
      "\n",
      "See the caveats in the documentation: https://pandas.pydata.org/pandas-docs/stable/user_guide/indexing.html#returning-a-view-versus-a-copy\n",
      "  data3[\"minimum_nights\"]=data3[\"minimum_nights\"].fillna(round(data2[\"minimum_nights\"].median(),2))\n"
     ]
    }
   ],
   "source": [
    "#Cuarta sustitución: minimum_nights\n",
    "#Desviación Estandar\n",
    "data3=data2[(y3<=Limite_Superior3)&(y3>=Limite_Inferior3)] \n",
    "data3[\"minimum_nights\"]=data3[\"minimum_nights\"].fillna(round(data2[\"minimum_nights\"].median(),2))\n",
    "#Sesgo hacia arriba\n",
    " #(Valores enteros)"
   ]
  },
  {
   "cell_type": "code",
   "execution_count": 39,
   "metadata": {},
   "outputs": [
    {
     "name": "stderr",
     "output_type": "stream",
     "text": [
      "/var/folders/s5/9tn200911wjfzyc3b8q58s900000gn/T/ipykernel_6067/1583002292.py:4: SettingWithCopyWarning: \n",
      "A value is trying to be set on a copy of a slice from a DataFrame.\n",
      "Try using .loc[row_indexer,col_indexer] = value instead\n",
      "\n",
      "See the caveats in the documentation: https://pandas.pydata.org/pandas-docs/stable/user_guide/indexing.html#returning-a-view-versus-a-copy\n",
      "  data3[\"number_of_reviews\"]=data3[\"number_of_reviews\"].fillna(round(data2[\"number_of_reviews\"].median(),2))\n"
     ]
    }
   ],
   "source": [
    "#Quinta sustitución: number_of_reviews\n",
    "#Desviación Estandar\n",
    "data3=data2[(y5<=Limite_Superior5)&(y5>=Limite_Inferior5)] \n",
    "data3[\"number_of_reviews\"]=data3[\"number_of_reviews\"].fillna(round(data2[\"number_of_reviews\"].median(),2))\n",
    "#Sesgo hacia arriba mas notorio pero los valores estan mas agrupados\n",
    " #(Valores enteros)"
   ]
  },
  {
   "cell_type": "code",
   "execution_count": 43,
   "metadata": {},
   "outputs": [
    {
     "name": "stderr",
     "output_type": "stream",
     "text": [
      "/var/folders/s5/9tn200911wjfzyc3b8q58s900000gn/T/ipykernel_6067/1671661840.py:4: SettingWithCopyWarning: \n",
      "A value is trying to be set on a copy of a slice from a DataFrame.\n",
      "Try using .loc[row_indexer,col_indexer] = value instead\n",
      "\n",
      "See the caveats in the documentation: https://pandas.pydata.org/pandas-docs/stable/user_guide/indexing.html#returning-a-view-versus-a-copy\n",
      "  data3[\"reviews_per_month\"]=data3[\"reviews_per_month\"].fillna(round(data2[\"reviews_per_month\"].mean(),2))\n"
     ]
    }
   ],
   "source": [
    "#Sexta sustitución: reviews_per_month\n",
    "#Desviación Estandar\n",
    "data3=data2[(y6<=Limite_Superior6)&(y6>=Limite_Inferior6)] \n",
    "data3[\"reviews_per_month\"]=data3[\"reviews_per_month\"].fillna(round(data2[\"reviews_per_month\"].mean(),2))\n",
    "#Sesgo hacia arriba mas notorio pero los valores estan mas agrupados"
   ]
  },
  {
   "cell_type": "code",
   "execution_count": null,
   "metadata": {},
   "outputs": [],
   "source": [
    "#Septima sustitución: availability_365\n",
    "#Desviación Estandar\n",
    "data3=data2[(y7<=Limite_Superior7)&(y7>=Limite_Inferior7)] \n",
    "data3[\"availability_365\"]=data3[\"availability_365\"].fillna(round(data2[\"availability_365\"].mode(),2))"
   ]
  },
  {
   "cell_type": "code",
   "execution_count": null,
   "metadata": {},
   "outputs": [],
   "source": [
    "data3"
   ]
  },
  {
   "cell_type": "code",
   "execution_count": null,
   "metadata": {},
   "outputs": [],
   "source": [
    "data3.to_csv(\"airbnb_clean.csv\")"
   ]
  }
 ],
 "metadata": {
  "kernelspec": {
   "display_name": "Python 3.10.6 64-bit",
   "language": "python",
   "name": "python3"
  },
  "language_info": {
   "codemirror_mode": {
    "name": "ipython",
    "version": 3
   },
   "file_extension": ".py",
   "mimetype": "text/x-python",
   "name": "python",
   "nbconvert_exporter": "python",
   "pygments_lexer": "ipython3",
   "version": "3.10.6"
  },
  "orig_nbformat": 4,
  "vscode": {
   "interpreter": {
    "hash": "aee8b7b246df8f9039afb4144a1f6fd8d2ca17a180786b69acc140d282b71a49"
   }
  }
 },
 "nbformat": 4,
 "nbformat_minor": 2
}
